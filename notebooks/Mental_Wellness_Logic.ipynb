import json

with open('mental_wellness_flows.json') as f:
    wellness_flows = json.load(f)

def get_response(intent, step):
    return wellness_flows["mental_wellness_flows"][intent]["flow"][step]["response"]

print(get_response("stress", 0))

